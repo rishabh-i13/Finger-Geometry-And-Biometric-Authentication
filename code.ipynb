{
 "cells": [
  {
   "attachments": {},
   "cell_type": "markdown",
   "metadata": {},
   "source": [
    "# **0.Import of neccessary libraries and common steps**"
   ]
  },
  {
   "cell_type": "code",
   "execution_count": 13,
   "metadata": {},
   "outputs": [
    {
     "name": "stdout",
     "output_type": "stream",
     "text": [
      "The cordinates of different hand landmarks are \n",
      "wrist [100.33034706115723, 202.08968877792358]\n",
      "thumb cmc [132.82310676574707, 182.6522445678711]\n",
      "thumb mcp [154.79075241088867, 151.23129844665527]\n",
      "thumb ip [170.1893424987793, 123.41798663139343]\n",
      "thumb tip [186.50988960266113, 107.05824136734009]\n",
      "index finger mcp [123.00440406799316, 107.79574155807495]\n",
      "index finger pip [129.52634239196777, 69.26603376865387]\n",
      "index finger dip [132.57920265197754, 46.081140637397766]\n",
      "index finger tip [134.14352416992188, 26.423743963241577]\n",
      "middle finger mcp  [100.16573715209961, 105.47800660133362]\n",
      "middle finger pip [99.1992130279541, 63.27747881412506]\n",
      "middle finger dip [98.84043979644775, 37.51017928123474]\n",
      "middle finger tip [97.51189804077148, 16.832845211029053]\n",
      "ring finger mcp [79.01951217651367, 111.07118368148804]\n",
      "ring finger pip [72.15198516845703, 71.97723984718323]\n",
      "ring finger dip [69.70389175415039, 47.48923361301422]\n",
      "ring finger tip [67.8028736114502, 27.255622148513794]\n",
      "pinky finger mcp [58.399173736572266, 123.88519525527954]\n",
      "pinky finger pip [48.521257400512695, 93.36759090423584]\n",
      "pinky finger dip [44.63729667663574, 74.06817555427551]\n",
      "pinky finger tip [42.49827575683594, 56.21025264263153] \n",
      "\n",
      "\n",
      "The cordinates of the extremeties of wrist are  left--->  [67.04106084753275, 202.08968877792358] right--->  [128.6196332747817, 202.08968877792358]\n",
      "The cordinates of the highest point is \n",
      "[97.51189804077148, 16.832845211029053]\n"
     ]
    }
   ],
   "source": [
    "import cv2\n",
    "import math\n",
    "import mediapipe as mp\n",
    "import numpy as np\n",
    "mp_drawing=mp.solutions.drawing_utils\n",
    "mp_hands=mp.solutions.hands\n",
    "\n",
    "with mp_hands.Hands(\n",
    "    static_image_mode=True,\n",
    "    max_num_hands=1,\n",
    "    min_detection_confidence=0.5) as hands:\n",
    "    #image=cv2.flip(cv2.imread(\"sample1.png\"),1)\n",
    "    image=cv2.imread(\"sample1.png\")\n",
    "    results=hands.process(cv2.cvtColor(image,cv2.COLOR_BGR2RGB))\n",
    "    image_height, image_width, _=image.shape\n",
    "    annotated_image=image.copy()\n",
    "    arr=results.multi_hand_landmarks[0]\n",
    "    print(\"The cordinates of different hand landmarks are \")\n",
    "    \n",
    "    #wrist cordinates point 0\n",
    "    wrist=[]\n",
    "    wrist.append(arr.landmark[mp_hands.HandLandmark.WRIST].x * image_width)\n",
    "    wrist.append(arr.landmark[mp_hands.HandLandmark.WRIST].y * image_height)\n",
    "    print(\"wrist\",wrist)\n",
    "\n",
    "    #thumb cmc point 1\n",
    "    thumb_cmc=[]\n",
    "    thumb_cmc.append(arr.landmark[mp_hands.HandLandmark.THUMB_CMC].x * image_width)\n",
    "    thumb_cmc.append(arr.landmark[mp_hands.HandLandmark.THUMB_CMC].y * image_height)\n",
    "    print(\"thumb cmc\",thumb_cmc)\n",
    "\n",
    "    #thumb mcp point 2\n",
    "    thumb_mcp=[]\n",
    "    thumb_mcp.append(arr.landmark[mp_hands.HandLandmark.THUMB_MCP].x * image_width)\n",
    "    thumb_mcp.append(arr.landmark[mp_hands.HandLandmark.THUMB_MCP].y * image_height)\n",
    "    print(\"thumb mcp\",thumb_mcp)\n",
    "\n",
    "    #thumb ip point 3\n",
    "    thumb_ip=[]\n",
    "    thumb_ip.append(arr.landmark[mp_hands.HandLandmark.THUMB_IP].x * image_width)\n",
    "    thumb_ip.append(arr.landmark[mp_hands.HandLandmark.THUMB_IP].y * image_height)\n",
    "    print(\"thumb ip\",thumb_ip)\n",
    "\n",
    "    #thumb tip point 4\n",
    "    thumb_tip=[]\n",
    "    thumb_tip.append(arr.landmark[mp_hands.HandLandmark.THUMB_TIP].x * image_width)\n",
    "    thumb_tip.append(arr.landmark[mp_hands.HandLandmark.THUMB_TIP].y * image_height)\n",
    "    print(\"thumb tip\",thumb_tip)\n",
    "\n",
    "    #index_finger_mcp  point 5\n",
    "    index_finger_mcp=[]\n",
    "    index_finger_mcp.append(arr.landmark[mp_hands.HandLandmark.INDEX_FINGER_MCP].x * image_width)\n",
    "    index_finger_mcp.append(arr.landmark[mp_hands.HandLandmark.INDEX_FINGER_MCP].y * image_height)\n",
    "    print(\"index finger mcp\",index_finger_mcp)\n",
    "\n",
    "    #index_finger_pip point 6\n",
    "    index_finger_pip=[]\n",
    "    index_finger_pip.append(arr.landmark[mp_hands.HandLandmark.INDEX_FINGER_PIP].x * image_width)\n",
    "    index_finger_pip.append(arr.landmark[mp_hands.HandLandmark.INDEX_FINGER_PIP].y * image_height)\n",
    "    print(\"index finger pip\",index_finger_pip)\n",
    "\n",
    "    #index_finger_dip point 7\n",
    "    index_finger_dip=[]\n",
    "    index_finger_dip.append(arr.landmark[mp_hands.HandLandmark.INDEX_FINGER_DIP].x * image_width)\n",
    "    index_finger_dip.append(arr.landmark[mp_hands.HandLandmark.INDEX_FINGER_DIP].y * image_height)\n",
    "    print(\"index finger dip\",index_finger_dip)\n",
    "\n",
    "    #index_finger_tip point 8\n",
    "    index_finger_tip=[]\n",
    "    index_finger_tip.append(arr.landmark[mp_hands.HandLandmark.INDEX_FINGER_TIP].x * image_width)\n",
    "    index_finger_tip.append(arr.landmark[mp_hands.HandLandmark.INDEX_FINGER_TIP].y * image_height)\n",
    "    print(\"index finger tip\",index_finger_tip)\n",
    "\n",
    "    #middle_finger_mcp  point 9\n",
    "    middle_finger_mcp=[]\n",
    "    middle_finger_mcp.append(arr.landmark[mp_hands.HandLandmark.MIDDLE_FINGER_MCP].x * image_width)\n",
    "    middle_finger_mcp.append(arr.landmark[mp_hands.HandLandmark.MIDDLE_FINGER_MCP].y * image_height)\n",
    "    print(\"middle finger mcp \",middle_finger_mcp)\n",
    "\n",
    "    #middle_finger_pip point 10\n",
    "    middle_finger_pip=[]\n",
    "    middle_finger_pip.append(arr.landmark[mp_hands.HandLandmark.MIDDLE_FINGER_PIP].x * image_width)\n",
    "    middle_finger_pip.append(arr.landmark[mp_hands.HandLandmark.MIDDLE_FINGER_PIP].y * image_height)\n",
    "    print(\"middle finger pip\",middle_finger_pip)\n",
    "\n",
    "    #middle_finger_dip point 11\n",
    "    middle_finger_dip=[]\n",
    "    middle_finger_dip.append(arr.landmark[mp_hands.HandLandmark.MIDDLE_FINGER_DIP].x * image_width)\n",
    "    middle_finger_dip.append(arr.landmark[mp_hands.HandLandmark.MIDDLE_FINGER_DIP].y * image_height)\n",
    "    print(\"middle finger dip\",middle_finger_dip)\n",
    "\n",
    "    #middle_finger_tip point 12\n",
    "    middle_finger_tip=[]\n",
    "    middle_finger_tip.append(arr.landmark[mp_hands.HandLandmark.MIDDLE_FINGER_TIP].x * image_width)\n",
    "    middle_finger_tip.append(arr.landmark[mp_hands.HandLandmark.MIDDLE_FINGER_TIP].y * image_height)\n",
    "    print(\"middle finger tip\",middle_finger_tip)\n",
    "\n",
    "    #ring_finger_mcp  point 13\n",
    "    ring_finger_mcp=[]\n",
    "    ring_finger_mcp.append(arr.landmark[mp_hands.HandLandmark.RING_FINGER_MCP].x * image_width)\n",
    "    ring_finger_mcp.append(arr.landmark[mp_hands.HandLandmark.RING_FINGER_MCP].y * image_height)\n",
    "    print(\"ring finger mcp\",ring_finger_mcp)\n",
    "\n",
    "    #ring_finger_pip point 14\n",
    "    ring_finger_pip=[]\n",
    "    ring_finger_pip.append(arr.landmark[mp_hands.HandLandmark.RING_FINGER_PIP].x * image_width)\n",
    "    ring_finger_pip.append(arr.landmark[mp_hands.HandLandmark.RING_FINGER_PIP].y * image_height)\n",
    "    print(\"ring finger pip\",ring_finger_pip)\n",
    "\n",
    "    #ring_finger_dip point 15\n",
    "    ring_finger_dip=[]\n",
    "    ring_finger_dip.append(arr.landmark[mp_hands.HandLandmark.RING_FINGER_DIP].x * image_width)\n",
    "    ring_finger_dip.append(arr.landmark[mp_hands.HandLandmark.RING_FINGER_DIP].y * image_height)\n",
    "    print(\"ring finger dip\",ring_finger_dip)\n",
    "\n",
    "    #ring_finger_tip point 16\n",
    "    ring_finger_tip=[]\n",
    "    ring_finger_tip.append(arr.landmark[mp_hands.HandLandmark.RING_FINGER_TIP].x * image_width)\n",
    "    ring_finger_tip.append(arr.landmark[mp_hands.HandLandmark.RING_FINGER_TIP].y * image_height)\n",
    "    print(\"ring finger tip\",ring_finger_tip)\n",
    "\n",
    "    #pinky_mcp point 17\n",
    "    pinky_mcp=[]\n",
    "    pinky_mcp.append(arr.landmark[mp_hands.HandLandmark.PINKY_MCP].x * image_width)\n",
    "    pinky_mcp.append(arr.landmark[mp_hands.HandLandmark.PINKY_MCP].y * image_height)\n",
    "    print(\"pinky finger mcp\",pinky_mcp)\n",
    "\n",
    "    #pinky_mcp point 18\n",
    "    pinky_pip=[]\n",
    "    pinky_pip.append(arr.landmark[mp_hands.HandLandmark.PINKY_PIP].x * image_width)\n",
    "    pinky_pip.append(arr.landmark[mp_hands.HandLandmark.PINKY_PIP].y * image_height)\n",
    "    print(\"pinky finger pip\",pinky_pip)\n",
    "\n",
    "    #pinky_mcp point 19\n",
    "    pinky_dip=[]\n",
    "    pinky_dip.append(arr.landmark[mp_hands.HandLandmark.PINKY_DIP].x * image_width)\n",
    "    pinky_dip.append(arr.landmark[mp_hands.HandLandmark.PINKY_DIP].y * image_height)\n",
    "    print(\"pinky finger dip\",pinky_dip)\n",
    "\n",
    "    #pinky_mcp point 20\n",
    "    pinky_tip=[]\n",
    "    pinky_tip.append(arr.landmark[mp_hands.HandLandmark.PINKY_TIP].x * image_width)\n",
    "    pinky_tip.append(arr.landmark[mp_hands.HandLandmark.PINKY_TIP].y * image_height)\n",
    "    print(\"pinky finger tip\",pinky_tip,\"\\n\\n\")\n",
    "\n",
    "    #co-ordinates of the top-most point\n",
    "    highest=[]\n",
    "    highest.append(thumb_tip)\n",
    "    highest.append(index_finger_tip)\n",
    "    highest.append(middle_finger_tip)\n",
    "    highest.append(ring_finger_tip)\n",
    "    highest.append(pinky_tip)\n",
    "\n",
    "    #extremeties of the wrist\n",
    "    d=math.dist(index_finger_mcp,pinky_mcp)\n",
    "    d=d/2\n",
    "    left=[]\n",
    "    left.append(wrist[0]-d)\n",
    "    left.append(wrist[1])\n",
    "    cv2.circle(image, center=(int(left[0]), int(left[1])), radius=2, color=(255, 0, 0), thickness=-1)\n",
    "    right=[]\n",
    "    right.append(wrist[0]+d-5)\n",
    "    right.append(wrist[1])\n",
    "    cv2.circle(image, center=(int(right[0]), int(right[1])), radius=2, color=(255, 0, 0), thickness=-1)\n",
    "   # cv2.imshow(\"wrist\",image)\n",
    "    cv2.waitKey(0)\n",
    "    print(\"The cordinates of the extremeties of wrist are \",\"left---> \",left,\"right---> \",right)\n",
    "\n",
    "    print(\"The cordinates of the highest point is \")\n",
    "    print(sorted(highest, key = lambda x: x[1])[0])\n",
    "\n",
    "        \n",
    "\n"
   ]
  },
  {
   "attachments": {},
   "cell_type": "markdown",
   "metadata": {},
   "source": [
    "# **1.Length of fingers calculation**"
   ]
  },
  {
   "cell_type": "code",
   "execution_count": 14,
   "metadata": {},
   "outputs": [
    {
     "name": "stdout",
     "output_type": "stream",
     "text": [
      "Length of Thumb finger ---------->  54.38163877562831\n",
      "Length of Index finger ---------->  82.13088328527071\n",
      "Length of Middle finger ---------->  88.68487751551534\n",
      "Length of Ring finger ---------->  84.56276565833842\n",
      "Length of Pinky finger ---------->  69.51788557045722\n"
     ]
    }
   ],
   "source": [
    "print(\"Length of Thumb finger ----------> \",math.dist(thumb_tip,thumb_mcp))\n",
    "print(\"Length of Index finger ----------> \",math.dist(index_finger_tip,index_finger_mcp))\n",
    "print(\"Length of Middle finger ----------> \",math.dist(middle_finger_tip,middle_finger_mcp))\n",
    "print(\"Length of Ring finger ----------> \",math.dist(ring_finger_tip,ring_finger_mcp))\n",
    "print(\"Length of Pinky finger ----------> \",math.dist(pinky_tip,pinky_mcp))"
   ]
  },
  {
   "attachments": {},
   "cell_type": "markdown",
   "metadata": {},
   "source": [
    "# **2.Length of the Palm**"
   ]
  },
  {
   "cell_type": "code",
   "execution_count": 15,
   "metadata": {},
   "outputs": [
    {
     "name": "stdout",
     "output_type": "stream",
     "text": [
      "The diameter of the palm  96.61182241016154\n"
     ]
    }
   ],
   "source": [
    "print(\"The diameter of the palm \",math.dist(wrist,middle_finger_mcp))\n",
    "mp_drawing.draw_landmarks(\n",
    "          annotated_image,arr, mp_hands.HAND_CONNECTIONS)\n",
    "image2=cv2.flip(annotated_image,1)\n",
    "cv2.imshow(\"marked image\",image2)\n",
    "cv2.waitKey(0)\n",
    "cv2.destroyAllWindows()"
   ]
  },
  {
   "attachments": {},
   "cell_type": "markdown",
   "metadata": {},
   "source": [
    "# **3.Area of the triangle formed on the palm**"
   ]
  },
  {
   "cell_type": "code",
   "execution_count": 16,
   "metadata": {},
   "outputs": [
    {
     "name": "stdout",
     "output_type": "stream",
     "text": [
      "126.14841418093516\n",
      "96.98175778696138\n",
      "88.73649814765996\n",
      "66.57857242724897\n",
      "The area of the triangle formed on the palm =  2863.5344943289515\n"
     ]
    }
   ],
   "source": [
    "a=math.dist(wrist,index_finger_mcp)\n",
    "b=math.dist(wrist,pinky_mcp)\n",
    "c=math.dist(index_finger_mcp,pinky_mcp)\n",
    "s=(a+b+c)/2\n",
    "print(s)\n",
    "print(a)\n",
    "print(b)\n",
    "print(c)\n",
    "area=math.sqrt(s*(s-a)*(s-b)*(s-c))\n",
    "print(\"The area of the triangle formed on the palm = \",area)"
   ]
  },
  {
   "attachments": {},
   "cell_type": "markdown",
   "metadata": {},
   "source": [
    "# **4.Length of the segments of fingers**"
   ]
  },
  {
   "cell_type": "code",
   "execution_count": 17,
   "metadata": {},
   "outputs": [
    {
     "name": "stdout",
     "output_type": "stream",
     "text": [
      "Thumb ----------->  23.108472967176816 , 31.791459400723763\n",
      "Index finger ----------->  19.719542231416796 , 23.385021387095488 , 39.077794997157966\n",
      "Middle finger ----------->  20.719970256915534 , 25.769797116961072 , 42.21159454938319\n",
      "Ring finger ----------->  20.322718884913957 , 24.610071326387327 , 39.69256065972774\n",
      "Pinky finger ----------->  17.985572585090537 , 19.686355268431562 , 32.07643070026704\n"
     ]
    }
   ],
   "source": [
    "#for the thumb\n",
    "print(\"Thumb -----------> \",math.dist(thumb_tip,thumb_ip),\",\",math.dist(thumb_mcp,thumb_ip))\n",
    "print(\"Index finger -----------> \",math.dist(index_finger_tip,index_finger_dip),\",\",math.dist(index_finger_pip,index_finger_dip),\",\",math.dist(index_finger_pip,index_finger_mcp))\n",
    "print(\"Middle finger -----------> \",math.dist(middle_finger_tip,middle_finger_dip),\",\",math.dist(middle_finger_pip,middle_finger_dip),\",\",math.dist(middle_finger_pip,middle_finger_mcp))\n",
    "print(\"Ring finger -----------> \",math.dist(ring_finger_tip,ring_finger_dip),\",\",math.dist(ring_finger_pip,ring_finger_dip),\",\",math.dist(ring_finger_pip,ring_finger_mcp))\n",
    "print(\"Pinky finger -----------> \",math.dist(pinky_tip,pinky_dip),\",\",math.dist(pinky_pip,pinky_dip),\",\",math.dist(pinky_pip,pinky_mcp))\n"
   ]
  },
  {
   "attachments": {},
   "cell_type": "markdown",
   "metadata": {},
   "source": [
    "# **5.Distance between the lowest and highest point of the hand**"
   ]
  },
  {
   "cell_type": "code",
   "execution_count": 18,
   "metadata": {},
   "outputs": [
    {
     "name": "stdout",
     "output_type": "stream",
     "text": [
      "The distance is  128.28830636349275\n"
     ]
    }
   ],
   "source": [
    "print(\"The distance is \",math.dist(highest[0],wrist))"
   ]
  },
  {
   "attachments": {},
   "cell_type": "markdown",
   "metadata": {},
   "source": [
    "# **6.Distance between the lowest points (mcp) of two consecutive fingers**"
   ]
  },
  {
   "cell_type": "code",
   "execution_count": 19,
   "metadata": {},
   "outputs": [
    {
     "name": "stdout",
     "output_type": "stream",
     "text": [
      "Thumb-Index 53.82396811084253\n",
      "Index-Middle 22.955970940581704\n",
      "Middle-Ring 21.873419041568678\n",
      "Ring-Pinky 24.277505019894193\n"
     ]
    }
   ],
   "source": [
    "print(\"Thumb-Index\",math.dist(thumb_mcp,index_finger_mcp))\n",
    "print(\"Index-Middle\",math.dist(index_finger_mcp,middle_finger_mcp))\n",
    "print(\"Middle-Ring\",math.dist(middle_finger_mcp,ring_finger_mcp))\n",
    "print(\"Ring-Pinky\",math.dist(ring_finger_mcp,pinky_mcp))"
   ]
  },
  {
   "attachments": {},
   "cell_type": "markdown",
   "metadata": {},
   "source": [
    "# **7.Perimter of the polygon formed on the palm with wrist and mcp of fingers as points**"
   ]
  },
  {
   "cell_type": "code",
   "execution_count": 20,
   "metadata": {},
   "outputs": [
    {
     "name": "stdout",
     "output_type": "stream",
     "text": [
      "The perimeter of the polygon is  286.1825383585363\n"
     ]
    }
   ],
   "source": [
    "a=math.dist(wrist,thumb_mcp)\n",
    "b=math.dist(thumb_mcp,index_finger_mcp)\n",
    "c=math.dist(index_finger_mcp,middle_finger_mcp)\n",
    "d=math.dist(middle_finger_mcp,ring_finger_mcp)\n",
    "e=math.dist(ring_finger_mcp,pinky_mcp)\n",
    "f=math.dist(pinky_mcp,wrist)\n",
    "print(\"The perimeter of the polygon is \",(a+b+c+d+e+f))"
   ]
  },
  {
   "attachments": {},
   "cell_type": "markdown",
   "metadata": {},
   "source": [
    "# **8.Width of the wrist**"
   ]
  },
  {
   "cell_type": "code",
   "execution_count": 21,
   "metadata": {},
   "outputs": [
    {
     "name": "stdout",
     "output_type": "stream",
     "text": [
      "The width of the wrist is  61.57857242724896\n",
      "66.57857242724897\n"
     ]
    }
   ],
   "source": [
    "print(\"The width of the wrist is \",math.dist(left,right))\n",
    "print(math.dist(index_finger_mcp,pinky_mcp))"
   ]
  },
  {
   "attachments": {},
   "cell_type": "markdown",
   "metadata": {},
   "source": [
    "# **9.Area of the triangle formed on the hand with wrist extremeties and highest point**"
   ]
  },
  {
   "cell_type": "code",
   "execution_count": 22,
   "metadata": {},
   "outputs": [
    {
     "name": "stdout",
     "output_type": "stream",
     "text": [
      "The area of the triangle formed on the palm =  2925.9504336194614\n"
     ]
    }
   ],
   "source": [
    "a=math.dist(left,highest[0])\n",
    "b=math.dist(right,highest[0])\n",
    "c=math.dist(left,right)\n",
    "s=(a+b+c)/2\n",
    "area=math.sqrt(s*(s-a)*(s-b)*(s-c))\n",
    "print(\"The area of the triangle formed on the palm = \",area)\n"
   ]
  },
  {
   "attachments": {},
   "cell_type": "markdown",
   "metadata": {},
   "source": [
    "# **10.Perimeter of the polygon enclosing the hand**"
   ]
  },
  {
   "cell_type": "code",
   "execution_count": 23,
   "metadata": {},
   "outputs": [
    {
     "name": "stdout",
     "output_type": "stream",
     "text": [
      "The perimeter of the polygon is  496.51207252238135\n"
     ]
    }
   ],
   "source": [
    "a=math.dist(left,thumb_tip)\n",
    "b=math.dist(index_finger_tip,thumb_tip)\n",
    "c=math.dist(index_finger_tip,middle_finger_tip)\n",
    "d=math.dist(middle_finger_tip,ring_finger_tip)\n",
    "e=math.dist(ring_finger_tip,pinky_tip)\n",
    "f=math.dist(pinky_tip,right)\n",
    "g=a=math.dist(left,right)\n",
    "print(\"The perimeter of the polygon is \",(a+b+c+d+e+f+g))\n"
   ]
  },
  {
   "attachments": {},
   "cell_type": "markdown",
   "metadata": {},
   "source": [
    "# **11.Radius of the circle passing through pip of index,middle and ring finger**"
   ]
  },
  {
   "cell_type": "code",
   "execution_count": 24,
   "metadata": {},
   "outputs": [
    {
     "name": "stdout",
     "output_type": "stream",
     "text": [
      "99.1992130279541 63.27747881412506\n",
      "Centre = ( 104.0 ,  123.0 )\n",
      "Radius =  59.48893\n"
     ]
    }
   ],
   "source": [
    "x1=index_finger_pip[0]\n",
    "x2=middle_finger_pip[0]\n",
    "x3=ring_finger_pip[0]    \n",
    "y1=index_finger_pip[1]\n",
    "y2=middle_finger_pip[1]\n",
    "y3=ring_finger_pip[1]\n",
    "\n",
    "print(x2,y2)\n",
    "\n",
    "x12 = x1 - x2\n",
    "x13 = x1 - x3\n",
    "\n",
    "y12 = y1 - y2\n",
    "y13 = y1 - y3\n",
    "\n",
    "y31 = y3 - y1\n",
    "y21 = y2 - y1\n",
    "\n",
    "x31 = x3 - x1\n",
    "x21 = x2 - x1\n",
    "\n",
    "# x1^2 - x3^2\n",
    "sx13 = pow(x1, 2) - pow(x3, 2)\n",
    "\n",
    "# y1^2 - y3^2\n",
    "sy13 = pow(y1, 2) - pow(y3, 2)\n",
    "\n",
    "sx21 = pow(x2, 2) - pow(x1, 2)\n",
    "sy21 = pow(y2, 2) - pow(y1, 2)\n",
    "\n",
    "f = (((sx13) * (x12) + (sy13) *\n",
    "        (x12) + (sx21) * (x13) +\n",
    "        (sy21) * (x13)) // (2 *\n",
    "        ((y31) * (x12) - (y21) * (x13))))\n",
    "            \n",
    "g = (((sx13) * (y12) + (sy13) * (y12) +\n",
    "        (sx21) * (y13) + (sy21) * (y13)) //\n",
    "        (2 * ((x31) * (y12) - (x21) * (y13))))\n",
    "\n",
    "c = (-pow(x1, 2) - pow(y1, 2) -\n",
    "        2 * g * x1 - 2 * f * y1)\n",
    "\n",
    "# eqn of circle be x^2 + y^2 + 2*g*x + 2*f*y + c = 0\n",
    "# where centre is (h = -g, k = -f) and\n",
    "# radius r as r^2 = h^2 + k^2 - c\n",
    "h = -g\n",
    "k = -f\n",
    "sqr_of_r = h * h + k * k - c\n",
    "\n",
    "# r is the radius\n",
    "r = round(math.sqrt(sqr_of_r), 5);\n",
    "\n",
    "print(\"Centre = (\", h, \", \", k, \")\")\n",
    "print(\"Radius = \", r)"
   ]
  }
 ],
 "metadata": {
  "kernelspec": {
   "display_name": "Python 3",
   "language": "python",
   "name": "python3"
  },
  "language_info": {
   "codemirror_mode": {
    "name": "ipython",
    "version": 3
   },
   "file_extension": ".py",
   "mimetype": "text/x-python",
   "name": "python",
   "nbconvert_exporter": "python",
   "pygments_lexer": "ipython3",
   "version": "3.10.6 (tags/v3.10.6:9c7b4bd, Aug  1 2022, 21:53:49) [MSC v.1932 64 bit (AMD64)]"
  },
  "orig_nbformat": 4,
  "vscode": {
   "interpreter": {
    "hash": "f42cdcbf8400eac50fc1e46c5a5b3b7e1171060be5471d08bba7a1b0f55f3644"
   }
  }
 },
 "nbformat": 4,
 "nbformat_minor": 2
}
